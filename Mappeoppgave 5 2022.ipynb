{
 "cells": [
  {
   "cell_type": "markdown",
   "id": "3494f8f9-9bbc-45c7-905e-da5afe22c1ad",
   "metadata": {
    "tags": []
   },
   "source": [
    "# Mappeoppgave 5 - python"
   ]
  },
  {
   "cell_type": "markdown",
   "id": "f1acc109-bb41-47fe-84f2-f10dd4f1e0f2",
   "metadata": {
    "tags": []
   },
   "source": [
    "## Skrap data fra nettet:"
   ]
  },
  {
   "cell_type": "markdown",
   "id": "c0392fa2-04ee-4327-9ad1-4a2f4e64c220",
   "metadata": {},
   "source": [
    "Vi starter med å laste inn et verktøy som heter `BeutifulSoup`. Med dette verktøyet kan du enkelt finne de taggene du ønsker."
   ]
  },
  {
   "cell_type": "code",
   "execution_count": 1,
   "id": "55d98250-843d-4dbd-b0a9-ac49e95894da",
   "metadata": {},
   "outputs": [
    {
     "name": "stdout",
     "output_type": "stream",
     "text": [
      "<table class=\"table table-striped\" style=\"width: auto !important; margin-left: auto; margin-right: auto;\">\n",
      "<thead>\n",
      "<tr>\n",
      "<th style=\"text-align:left;\">\n",
      "country\n",
      "</th>\n",
      "<th style=\"text-align:left;\">\n",
      "continent\n",
      "</th>\n",
      "<th style=\"text-align:right;\">\n",
      "lifeExp\n",
      "</th>\n",
      "<th style=\"text-align:right;\">\n",
      "pop\n",
      "</th>\n",
      "<th style=\"text-align:right;\">\n",
      "gdpPercap\n",
      "</th>\n",
      "</tr>\n",
      "</thead>\n",
      "<tbody>\n",
      "<tr>\n",
      "<td style=\"text-align:left;\">\n",
      "Afghanistan\n",
      "</td>\n",
      "<td style=\"text-align:left;\">\n",
      "Asia\n",
      "</td>\n",
      "<td style=\"text-align:right;\">\n",
      "43.8\n",
      "</td>\n",
      "<td style=\"text-align:right;\">\n",
      "31.89\n",
      "</td>\n",
      "<td style=\"text-align:right;\">\n",
      "975\n",
      "</td>\n",
      "</tr>\n",
      "<tr>\n",
      "<td style=\"text-align:left;\">\n",
      "Albania\n",
      "</td>\n",
      "<td style=\"text-align:left;\">\n",
      "Europe\n",
      "</td>\n",
      "<td style=\"text-align:right;\">\n",
      "76.4\n",
      "</td>\n",
      "<td style=\"text-align:right;\">\n",
      "3.60\n",
      "</td>\n",
      "<td style=\"text-align:right;\">\n",
      "5937\n",
      "</td>\n",
      "</tr>\n",
      "<tr>\n",
      "<td style=\"text-align:left;\">\n",
      "Algeria\n",
      "</td>\n",
      "<td style=\"text-align:left;\">\n",
      "Africa\n",
      "</td>\n",
      "<td style=\"text-align:right;\">\n",
      "72.3\n",
      "</td>\n",
      "<td style=\"text-align:right;\">\n",
      "33.33\n",
      "</td>\n",
      "<td sty\n"
     ]
    }
   ],
   "source": [
    "from bs4 import BeautifulSoup\n",
    "import requests\n",
    "\n",
    "def fetch_html_tables(url):\n",
    "    \"Returns a list of tables in the html of url\"\n",
    "    page = requests.get(url)\n",
    "    bs=BeautifulSoup(page.content)\n",
    "    tables=bs.find_all('table')\n",
    "    return tables\n",
    "\n",
    "tables=fetch_html_tables('https://www.data-to-viz.com/story/ThreeNum.html')\n",
    "table_html=tables[0]\n",
    "\n",
    "#printing top\n",
    "print(str(table_html)[:1000])"
   ]
  },
  {
   "cell_type": "markdown",
   "id": "a1f6f7a2-d4a7-4f56-9291-89652c0f6e5f",
   "metadata": {},
   "source": [
    "Det vi får ut med `bs.find_all('table')` er altså en liste med alle partier i teksten med matchende `<table>`-`</table>`-tagger. I dette dokumentet er det bare én tabell, så listen har bare ett element. Vi må nå søke videre inne i tabellen etter innholdstaggene. Vi bruker samme funksjon til det. Her er to funksjoner som sammen finner innholdstaggene og returnerer en tabell:"
   ]
  },
  {
   "cell_type": "code",
   "execution_count": 2,
   "id": "f0c08846-2d1c-43b5-98c8-33cb3be776c2",
   "metadata": {},
   "outputs": [
    {
     "name": "stdout",
     "output_type": "stream",
     "text": [
      "[['country', 'continent', 'lifeExp', 'pop', 'gdpPercap'], ['Afghanistan', 'Asia', '43.8', '31.89', '975'], ['Albania', 'Europe', '76.4', '3.60', '5937'], ['Algeria', 'Africa', '72.3', '33.33', '6223'], ['Angola', 'Africa', '42.7', '12.42', '4797'], ['Argentina', 'Americas', '75.3', '40.30', '12779'], ['Australia', 'Oceania', '81.2', '20.43', '34435']]\n"
     ]
    }
   ],
   "source": [
    "def html_to_table(html):\n",
    "    \"Returns the table defined in html as a list\"\n",
    "    #defining the table:\n",
    "    table=[]\n",
    "    #iterating over all rows\n",
    "    for row in html.find_all('tr'):\n",
    "        r=[]\n",
    "        #finding all cells in each row:\n",
    "        cells=row.find_all('td')\n",
    "        \n",
    "        #if no cells are found, look for headings\n",
    "        if len(cells)==0:\n",
    "            cells=row.find_all('th')\n",
    "            \n",
    "        #iterate over cells:\n",
    "        for cell in cells:\n",
    "            cell=format(cell)\n",
    "            r.append(cell)\n",
    "        \n",
    "        #append the row to t:\n",
    "        table.append(r)\n",
    "    return table\n",
    "\n",
    "def format(cell):\n",
    "    \"Returns a string after converting bs4 object cell to clean text\"\n",
    "    if cell.content is None:\n",
    "        s=cell.text\n",
    "    elif len(cell.content)==0:\n",
    "        return ''\n",
    "    else:\n",
    "        s=' '.join([str(c) for c in cell.content])\n",
    "        \n",
    "    #here you can add additional characters/strings you want to \n",
    "    #remove, change punctuations or format the string in other\n",
    "    #ways:\n",
    "    s=s.replace('\\xa0','')\n",
    "    s=s.replace('\\n','')\n",
    "    return s\n",
    "\n",
    "table=html_to_table(table_html)\n",
    "\n",
    "#printing top\n",
    "print(str(table)[:1000])"
   ]
  },
  {
   "cell_type": "markdown",
   "id": "32074d60-f7e2-49a2-bb30-a4d4cc3466d8",
   "metadata": {},
   "source": [
    "Den første funksjonen itererer over tabellceller, mens den andre funksjonen konverterer innholdet fra et bs4-objekt med html-kode til leselig tekst. \n",
    "\n",
    "Vi har nå skrapet siden, og hentet ut tabellen. For å gjøre den mer leselig, kan vi lagre den som en fil. Når vi lager filer i python bruker vi den innebygde `open`-funksjonen. Om vi kaller filen for \"DataToViz.csv\", kan vi opprette filen ved å kjøre `f=open('DataToViz.csv','w')`. Strengen `'w'` betyr at vi åpner filen for skriving (*writing*, i motsetning til lesing/*reading* markert med `'r'`. Vi fyller filen med innhold med `f.write()`. \n",
    "\n",
    "For å skille kolonnene skal vi her bruke semikolon ';'. Python har en enkel måte å konvertere en liste til en streng med skilletegn. En tar utgangspunkt i skilletegnet, og bruker metoden `join()` på det. For eksempel: "
   ]
  },
  {
   "cell_type": "code",
   "execution_count": 3,
   "id": "f1987bd8-db65-4045-9229-3795ed51c9d3",
   "metadata": {},
   "outputs": [
    {
     "data": {
      "text/plain": [
       "'country;continent;lifeExp;pop;gdpPercap'"
      ]
     },
     "execution_count": 3,
     "metadata": {},
     "output_type": "execute_result"
    }
   ],
   "source": [
    "';'.join(table[0])"
   ]
  },
  {
   "cell_type": "markdown",
   "id": "7ef57c43-e671-43cd-9032-10abb2a54a37",
   "metadata": {},
   "source": [
    "Vi kan nå åpne filen for skriving og iterere over rader og skrive dem til filen. "
   ]
  },
  {
   "cell_type": "code",
   "execution_count": 4,
   "id": "124139c3-cf2d-42b4-a962-37da59f998fe",
   "metadata": {},
   "outputs": [],
   "source": [
    "def save_data(file_name,table):\n",
    "    \"Saves table to file_name\"\n",
    "    f=open(file_name,'w')\n",
    "    for row in table:\n",
    "        f.write(';'.join(row)+'\\n')\n",
    "    f.close()\n",
    "    \n",
    "save_data('DataToViz.csv',table)"
   ]
  },
  {
   "cell_type": "markdown",
   "id": "89df295c-6fea-4ff9-8b0b-26d6dcc63115",
   "metadata": {},
   "source": [
    "Vi kan ta en kikk på dataene med Pandas (`encoding='latin1'` er for å få med æ,ø,å):"
   ]
  },
  {
   "cell_type": "code",
   "execution_count": 5,
   "id": "d3886715-b903-4f2c-b358-c79955ca504d",
   "metadata": {},
   "outputs": [
    {
     "data": {
      "text/html": [
       "<div>\n",
       "<style scoped>\n",
       "    .dataframe tbody tr th:only-of-type {\n",
       "        vertical-align: middle;\n",
       "    }\n",
       "\n",
       "    .dataframe tbody tr th {\n",
       "        vertical-align: top;\n",
       "    }\n",
       "\n",
       "    .dataframe thead th {\n",
       "        text-align: right;\n",
       "    }\n",
       "</style>\n",
       "<table border=\"1\" class=\"dataframe\">\n",
       "  <thead>\n",
       "    <tr style=\"text-align: right;\">\n",
       "      <th></th>\n",
       "      <th>country</th>\n",
       "      <th>continent</th>\n",
       "      <th>lifeExp</th>\n",
       "      <th>pop</th>\n",
       "      <th>gdpPercap</th>\n",
       "    </tr>\n",
       "  </thead>\n",
       "  <tbody>\n",
       "    <tr>\n",
       "      <th>0</th>\n",
       "      <td>Afghanistan</td>\n",
       "      <td>Asia</td>\n",
       "      <td>43.8</td>\n",
       "      <td>31.89</td>\n",
       "      <td>975</td>\n",
       "    </tr>\n",
       "    <tr>\n",
       "      <th>1</th>\n",
       "      <td>Albania</td>\n",
       "      <td>Europe</td>\n",
       "      <td>76.4</td>\n",
       "      <td>3.60</td>\n",
       "      <td>5937</td>\n",
       "    </tr>\n",
       "    <tr>\n",
       "      <th>2</th>\n",
       "      <td>Algeria</td>\n",
       "      <td>Africa</td>\n",
       "      <td>72.3</td>\n",
       "      <td>33.33</td>\n",
       "      <td>6223</td>\n",
       "    </tr>\n",
       "    <tr>\n",
       "      <th>3</th>\n",
       "      <td>Angola</td>\n",
       "      <td>Africa</td>\n",
       "      <td>42.7</td>\n",
       "      <td>12.42</td>\n",
       "      <td>4797</td>\n",
       "    </tr>\n",
       "    <tr>\n",
       "      <th>4</th>\n",
       "      <td>Argentina</td>\n",
       "      <td>Americas</td>\n",
       "      <td>75.3</td>\n",
       "      <td>40.30</td>\n",
       "      <td>12779</td>\n",
       "    </tr>\n",
       "    <tr>\n",
       "      <th>5</th>\n",
       "      <td>Australia</td>\n",
       "      <td>Oceania</td>\n",
       "      <td>81.2</td>\n",
       "      <td>20.43</td>\n",
       "      <td>34435</td>\n",
       "    </tr>\n",
       "  </tbody>\n",
       "</table>\n",
       "</div>"
      ],
      "text/plain": [
       "       country continent  lifeExp    pop  gdpPercap\n",
       "0  Afghanistan      Asia     43.8  31.89        975\n",
       "1      Albania    Europe     76.4   3.60       5937\n",
       "2      Algeria    Africa     72.3  33.33       6223\n",
       "3       Angola    Africa     42.7  12.42       4797\n",
       "4    Argentina  Americas     75.3  40.30      12779\n",
       "5    Australia   Oceania     81.2  20.43      34435"
      ]
     },
     "execution_count": 5,
     "metadata": {},
     "output_type": "execute_result"
    }
   ],
   "source": [
    "import pandas as pd\n",
    "pd.read_csv('DataToViz.csv', delimiter=';', encoding='latin1')"
   ]
  },
  {
   "cell_type": "markdown",
   "id": "6ae7ed8b-a5d0-420c-9a7e-210a2331d790",
   "metadata": {
    "tags": []
   },
   "source": [
    "## Statsmodels:"
   ]
  },
  {
   "cell_type": "code",
   "execution_count": 6,
   "id": "3d05329b-be4c-443b-adc6-75f181896116",
   "metadata": {},
   "outputs": [
    {
     "data": {
      "text/html": [
       "<div>\n",
       "<style scoped>\n",
       "    .dataframe tbody tr th:only-of-type {\n",
       "        vertical-align: middle;\n",
       "    }\n",
       "\n",
       "    .dataframe tbody tr th {\n",
       "        vertical-align: top;\n",
       "    }\n",
       "\n",
       "    .dataframe thead th {\n",
       "        text-align: right;\n",
       "    }\n",
       "</style>\n",
       "<table border=\"1\" class=\"dataframe\">\n",
       "  <thead>\n",
       "    <tr style=\"text-align: right;\">\n",
       "      <th></th>\n",
       "      <th>country</th>\n",
       "      <th>continent</th>\n",
       "      <th>lifeExp</th>\n",
       "      <th>pop</th>\n",
       "      <th>gdpPercap</th>\n",
       "    </tr>\n",
       "  </thead>\n",
       "  <tbody>\n",
       "    <tr>\n",
       "      <th>0</th>\n",
       "      <td>Afghanistan</td>\n",
       "      <td>Asia</td>\n",
       "      <td>43.8</td>\n",
       "      <td>31.89</td>\n",
       "      <td>975</td>\n",
       "    </tr>\n",
       "    <tr>\n",
       "      <th>1</th>\n",
       "      <td>Albania</td>\n",
       "      <td>Europe</td>\n",
       "      <td>76.4</td>\n",
       "      <td>3.60</td>\n",
       "      <td>5937</td>\n",
       "    </tr>\n",
       "    <tr>\n",
       "      <th>2</th>\n",
       "      <td>Algeria</td>\n",
       "      <td>Africa</td>\n",
       "      <td>72.3</td>\n",
       "      <td>33.33</td>\n",
       "      <td>6223</td>\n",
       "    </tr>\n",
       "    <tr>\n",
       "      <th>3</th>\n",
       "      <td>Angola</td>\n",
       "      <td>Africa</td>\n",
       "      <td>42.7</td>\n",
       "      <td>12.42</td>\n",
       "      <td>4797</td>\n",
       "    </tr>\n",
       "    <tr>\n",
       "      <th>4</th>\n",
       "      <td>Argentina</td>\n",
       "      <td>Americas</td>\n",
       "      <td>75.3</td>\n",
       "      <td>40.30</td>\n",
       "      <td>12779</td>\n",
       "    </tr>\n",
       "    <tr>\n",
       "      <th>5</th>\n",
       "      <td>Australia</td>\n",
       "      <td>Oceania</td>\n",
       "      <td>81.2</td>\n",
       "      <td>20.43</td>\n",
       "      <td>34435</td>\n",
       "    </tr>\n",
       "  </tbody>\n",
       "</table>\n",
       "</div>"
      ],
      "text/plain": [
       "       country continent  lifeExp    pop  gdpPercap\n",
       "0  Afghanistan      Asia     43.8  31.89        975\n",
       "1      Albania    Europe     76.4   3.60       5937\n",
       "2      Algeria    Africa     72.3  33.33       6223\n",
       "3       Angola    Africa     42.7  12.42       4797\n",
       "4    Argentina  Americas     75.3  40.30      12779\n",
       "5    Australia   Oceania     81.2  20.43      34435"
      ]
     },
     "execution_count": 6,
     "metadata": {},
     "output_type": "execute_result"
    }
   ],
   "source": [
    "import pandas as pd\n",
    "g = pd.read_csv(\"DataToViz.csv\", sep=\";\")#reading data\n",
    "g"
   ]
  },
  {
   "cell_type": "code",
   "execution_count": 7,
   "id": "6f5f2a7b-96e7-4579-84eb-f2940c620a84",
   "metadata": {},
   "outputs": [
    {
     "data": {
      "text/plain": [
       "<matplotlib.legend.Legend at 0x7fdb60d97f40>"
      ]
     },
     "execution_count": 7,
     "metadata": {},
     "output_type": "execute_result"
    },
    {
     "data": {
      "image/png": "[encoded data removed]",
      "text/plain": [
       "<Figure size 432x288 with 1 Axes>"
      ]
     },
     "metadata": {
      "needs_background": "light"
     },
     "output_type": "display_data"
    }
   ],
   "source": [
    "from matplotlib import pyplot as plt\n",
    "\n",
    "fig,ax=plt.subplots()\n",
    "\n",
    "#adding axis lables:\n",
    "ax.set_ylabel('Forventet antall leveår')\n",
    "ax.set_xlabel('BNP per innbygger')\n",
    "\n",
    "#plotting the function:\n",
    "ax.scatter(g['gdpPercap'], g['lifeExp'],  label='Observasjoner')\n",
    "ax.legend(loc='lower right',frameon=False)"
   ]
  },
  {
   "cell_type": "code",
   "execution_count": 8,
   "id": "42991dc9-f61a-4f06-af41-bb450756af83",
   "metadata": {},
   "outputs": [
    {
     "data": {
      "text/plain": [
       "<matplotlib.legend.Legend at 0x7fdb58bc04f0>"
      ]
     },
     "execution_count": 8,
     "metadata": {},
     "output_type": "execute_result"
    },
    {
     "data": {
      "image/png": "[encoded data removed]",
      "text/plain": [
       "<Figure size 432x288 with 1 Axes>"
      ]
     },
     "metadata": {
      "needs_background": "light"
     },
     "output_type": "display_data"
    }
   ],
   "source": [
    "import numpy as np\n",
    "from matplotlib import pyplot as plt\n",
    "\n",
    "fig,ax=plt.subplots()\n",
    "\n",
    "#adding axis lables:\n",
    "ax.set_ylabel('Forventet antall leveår')\n",
    "ax.set_xlabel('BNP per innbygger')\n",
    "\n",
    "#plotting the function:\n",
    "ax.scatter(np.log(g['gdpPercap']), g['lifeExp'],  label='Observasjoner')\n",
    "ax.legend(loc='lower right',frameon=False)"
   ]
  },
  {
   "cell_type": "code",
   "execution_count": 9,
   "id": "8dfa88b5-e64d-4955-a71f-9ed7655f38b2",
   "metadata": {},
   "outputs": [
    {
     "data": {
      "text/html": [
       "<div>\n",
       "<style scoped>\n",
       "    .dataframe tbody tr th:only-of-type {\n",
       "        vertical-align: middle;\n",
       "    }\n",
       "\n",
       "    .dataframe tbody tr th {\n",
       "        vertical-align: top;\n",
       "    }\n",
       "\n",
       "    .dataframe thead th {\n",
       "        text-align: right;\n",
       "    }\n",
       "</style>\n",
       "<table border=\"1\" class=\"dataframe\">\n",
       "  <thead>\n",
       "    <tr style=\"text-align: right;\">\n",
       "      <th></th>\n",
       "      <th>lifeExp</th>\n",
       "    </tr>\n",
       "  </thead>\n",
       "  <tbody>\n",
       "    <tr>\n",
       "      <th>0</th>\n",
       "      <td>43.8</td>\n",
       "    </tr>\n",
       "    <tr>\n",
       "      <th>1</th>\n",
       "      <td>76.4</td>\n",
       "    </tr>\n",
       "    <tr>\n",
       "      <th>2</th>\n",
       "      <td>72.3</td>\n",
       "    </tr>\n",
       "    <tr>\n",
       "      <th>3</th>\n",
       "      <td>42.7</td>\n",
       "    </tr>\n",
       "    <tr>\n",
       "      <th>4</th>\n",
       "      <td>75.3</td>\n",
       "    </tr>\n",
       "    <tr>\n",
       "      <th>5</th>\n",
       "      <td>81.2</td>\n",
       "    </tr>\n",
       "  </tbody>\n",
       "</table>\n",
       "</div>"
      ],
      "text/plain": [
       "   lifeExp\n",
       "0     43.8\n",
       "1     76.4\n",
       "2     72.3\n",
       "3     42.7\n",
       "4     75.3\n",
       "5     81.2"
      ]
     },
     "execution_count": 9,
     "metadata": {},
     "output_type": "execute_result"
    }
   ],
   "source": [
    "y=g['lifeExp']\n",
    "pd.DataFrame(y)"
   ]
  },
  {
   "cell_type": "code",
   "execution_count": 10,
   "id": "8eb89679-3def-4e7d-9073-23d9a79a33bc",
   "metadata": {},
   "outputs": [
    {
     "data": {
      "text/html": [
       "<div>\n",
       "<style scoped>\n",
       "    .dataframe tbody tr th:only-of-type {\n",
       "        vertical-align: middle;\n",
       "    }\n",
       "\n",
       "    .dataframe tbody tr th {\n",
       "        vertical-align: top;\n",
       "    }\n",
       "\n",
       "    .dataframe thead th {\n",
       "        text-align: right;\n",
       "    }\n",
       "</style>\n",
       "<table border=\"1\" class=\"dataframe\">\n",
       "  <thead>\n",
       "    <tr style=\"text-align: right;\">\n",
       "      <th></th>\n",
       "      <th>gdpPercap</th>\n",
       "      <th>intercept</th>\n",
       "    </tr>\n",
       "  </thead>\n",
       "  <tbody>\n",
       "    <tr>\n",
       "      <th>0</th>\n",
       "      <td>6.882437</td>\n",
       "      <td>1</td>\n",
       "    </tr>\n",
       "    <tr>\n",
       "      <th>1</th>\n",
       "      <td>8.688959</td>\n",
       "      <td>1</td>\n",
       "    </tr>\n",
       "    <tr>\n",
       "      <th>2</th>\n",
       "      <td>8.736007</td>\n",
       "      <td>1</td>\n",
       "    </tr>\n",
       "    <tr>\n",
       "      <th>3</th>\n",
       "      <td>8.475746</td>\n",
       "      <td>1</td>\n",
       "    </tr>\n",
       "    <tr>\n",
       "      <th>4</th>\n",
       "      <td>9.455558</td>\n",
       "      <td>1</td>\n",
       "    </tr>\n",
       "    <tr>\n",
       "      <th>5</th>\n",
       "      <td>10.446829</td>\n",
       "      <td>1</td>\n",
       "    </tr>\n",
       "  </tbody>\n",
       "</table>\n",
       "</div>"
      ],
      "text/plain": [
       "   gdpPercap  intercept\n",
       "0   6.882437          1\n",
       "1   8.688959          1\n",
       "2   8.736007          1\n",
       "3   8.475746          1\n",
       "4   9.455558          1\n",
       "5  10.446829          1"
      ]
     },
     "execution_count": 10,
     "metadata": {},
     "output_type": "execute_result"
    }
   ],
   "source": [
    "x=pd.DataFrame(np.log(g['gdpPercap']))\n",
    "x['intercept']=1\n",
    "x"
   ]
  },
  {
   "cell_type": "markdown",
   "id": "d96ca67b-a892-4995-b091-e90596d0cb08",
   "metadata": {},
   "source": [
    "Vi kan nå estimere hvilke koefisienter $\\alpha$ og $\\beta$ som passer best til dataene. Da bruker vi `OLS` fra `statsmodels`og sette inn y og x: "
   ]
  },
  {
   "cell_type": "code",
   "execution_count": 11,
   "id": "fa423479-7c23-4c2d-bbdf-c801bad26a46",
   "metadata": {},
   "outputs": [
    {
     "name": "stdout",
     "output_type": "stream",
     "text": [
      "                            OLS Regression Results                            \n",
      "==============================================================================\n",
      "Dep. Variable:                lifeExp   R-squared:                       0.610\n",
      "Model:                            OLS   Adj. R-squared:                  0.512\n",
      "Method:                 Least Squares   F-statistic:                     6.252\n",
      "Date:                Fri, 01 Apr 2022   Prob (F-statistic):             0.0667\n",
      "Time:                        08:12:59   Log-Likelihood:                -22.251\n",
      "No. Observations:                   6   AIC:                             48.50\n",
      "Df Residuals:                       4   BIC:                             48.08\n",
      "Df Model:                           1                                         \n",
      "Covariance Type:            nonrobust                                         \n",
      "==============================================================================\n",
      "                 coef    std err          t      P>|t|      [0.025      0.975]\n",
      "------------------------------------------------------------------------------\n",
      "gdpPercap     11.4746      4.589      2.500      0.067      -1.267      24.216\n",
      "intercept    -35.4743     40.598     -0.874      0.432    -148.193      77.245\n",
      "==============================================================================\n",
      "Omnibus:                          nan   Durbin-Watson:                   2.321\n",
      "Prob(Omnibus):                    nan   Jarque-Bera (JB):                0.687\n",
      "Skew:                          -0.821   Prob(JB):                        0.709\n",
      "Kurtosis:                       2.773   Cond. No.                         73.7\n",
      "==============================================================================\n",
      "\n",
      "Notes:\n",
      "[1] Standard Errors assume that the covariance matrix of the errors is correctly specified.\n"
     ]
    },
    {
     "name": "stderr",
     "output_type": "stream",
     "text": [
      "/azhome/vfu005@ad.uit.no/.local/lib/python3.9/site-packages/statsmodels/stats/stattools.py:74: ValueWarning: omni_normtest is not valid with less than 8 observations; 6 samples were given.\n",
      "  warn(\"omni_normtest is not valid with less than 8 observations; %i \"\n"
     ]
    }
   ],
   "source": [
    "from statsmodels.regression.linear_model import OLS\n",
    "\n",
    "res=OLS(y,x).fit()\n",
    "\n",
    "print(res.summary())"
   ]
  },
  {
   "cell_type": "markdown",
   "id": "f359c5ab-a20d-4a64-bac3-753e9662d3a5",
   "metadata": {},
   "source": [
    "Over ser vi resultatet av regresjonen. Det vi bør legge spesielt merke til er kolonnen under `coef`, som viser estimatene. Vi ser at $\\alpha=-35.4743$ og $\\beta=11.4746$. Disse tallene er lagret i res.params:"
   ]
  },
  {
   "cell_type": "code",
   "execution_count": 12,
   "id": "ce7e2d22-c6c7-497a-87dd-f920430d7272",
   "metadata": {},
   "outputs": [
    {
     "data": {
      "text/plain": [
       "gdpPercap    11.474611\n",
       "intercept   -35.474337\n",
       "dtype: float64"
      ]
     },
     "execution_count": 12,
     "metadata": {},
     "output_type": "execute_result"
    }
   ],
   "source": [
    "res.params"
   ]
  },
  {
   "cell_type": "markdown",
   "id": "e81cc29f-8795-4ca0-8fe6-736e8da9b013",
   "metadata": {},
   "source": [
    "Vi kan derfor bruke `res.params` til å plotte linjen $\\alpha+\\beta \\cdot x$"
   ]
  },
  {
   "cell_type": "code",
   "execution_count": 13,
   "id": "2bb3b569-a373-42fc-919b-5368a276164a",
   "metadata": {},
   "outputs": [
    {
     "data": {
      "image/png": "[encoded data removed]",
      "text/plain": [
       "<Figure size 432x288 with 1 Axes>"
      ]
     },
     "execution_count": 13,
     "metadata": {},
     "output_type": "execute_result"
    }
   ],
   "source": [
    "x=np.linspace(min(np.log(g['gdpPercap'])), max(np.log(g['gdpPercap'])), 100)\n",
    "\n",
    "regression_line=res.params['intercept']+res.params['gdpPercap']*x\n",
    "\n",
    "ax.plot(x, regression_line,color='red') \n",
    "\n",
    "fig"
   ]
  },
  {
   "cell_type": "markdown",
   "id": "e747984c-d3aa-41aa-9d69-67f290ab609c",
   "metadata": {},
   "source": [
    "Vi ser at regresjonslinjen passer svært godt til dataene. Siden vi har brukt OLS vet vi at dette er den linjen som har minst avstand i gjennomsnitt til alle punktene. \"Avstand\" måles som kvadrate av den vertikale differansen. Matematisk kan vi skrive det slik:\n",
    "\n",
    "$y=\\alpha+\\beta \\cdot x+\\epsilon$\n",
    "\n",
    "der $\\alpha+\\beta \\cdot x$ er linjen og $\\epsilon$ er den vertikale avstanden til linjen.\n",
    "\n",
    "I grafen over ser vi på om det er sammenhengen mellom BNP per innbygger og antall leveår. Grafen viser  altså at høyere BNP per innbygger fører til større forventet levealder. \n",
    "Selv om det kun er plottet 7 observasjoner får vi informasjon utifra grafen."
   ]
  },
  {
   "cell_type": "markdown",
   "id": "5afa6524-9d6a-4306-b666-4d4179cf789f",
   "metadata": {
    "tags": []
   },
   "source": [
    "## Sources:"
   ]
  },
  {
   "cell_type": "markdown",
   "id": "9d47e64e-0881-4fdf-b802-fbf975995c14",
   "metadata": {
    "jp-MarkdownHeadingCollapsed": true,
    "tags": []
   },
   "source": [
    "Espen Sirnes (2022) 9 - webskraping med python (version 1.0)\n",
    "[Source code]. https://github.com/espensirnes/notebooks/9-webskraping-med-python\n",
    "\n",
    "Espen Sirnes (2022) 10 - statsmodels (version 1.0)\n",
    "[Source code]. https://github.com/espensirnes/notebooks/10-statsmodels"
   ]
  }
 ],
 "metadata": {
  "kernelspec": {
   "display_name": "Python 3 (ipykernel)",
   "language": "python",
   "name": "python3"
  },
  "language_info": {
   "codemirror_mode": {
    "name": "ipython",
    "version": 3
   },
   "file_extension": ".py",
   "mimetype": "text/x-python",
   "name": "python",
   "nbconvert_exporter": "python",
   "pygments_lexer": "ipython3",
   "version": "3.9.9"
  }
 },
 "nbformat": 4,
 "nbformat_minor": 5
}
